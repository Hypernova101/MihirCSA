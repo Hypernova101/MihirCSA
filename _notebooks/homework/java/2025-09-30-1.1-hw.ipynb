{
 "cells": [
  {
   "cell_type": "raw",
   "id": "b7c9eb54",
   "metadata": {
    "vscode": {
     "languageId": "raw"
    }
   },
   "source": [
    "---\n",
    "layout: post\n",
    "toc: true\n",
    "title: Unit 1 HW 1\n",
    "permalink: /csa/unit_01/1_1\n",
    "---"
   ]
  },
  {
   "cell_type": "markdown",
   "id": "820b17a0",
   "metadata": {},
   "source": [
    "## Hack 1: Create Your Own Algorithm\n",
    "\n",
    "**Activity chosen:** Making a pizza from scratch!\n",
    "\n",
    "**Algorithm:**\n",
    "1. Gather all ingredients: flour, yeast, warm water, salt, olive oil, tomato sauce, mozzarella cheese, and desired toppings\n",
    "2. Mix 2 cups of flour, 1 packet of yeast, 1 teaspoon of salt in a large bowl\n",
    "3. Add 3/4 cup of warm water and 2 tablespoons of olive oil to the dry ingredients and knead for 8-10 minutes until dough is smooth and elastic\n",
    "4. Cover the dough with a damp cloth and let it rise in a warm place for 1 hour until it doubles in size\n",
    "5. Preheat the oven to 475°F (245°C) and lightly oil a pizza pan or baking sheet\n",
    "6. Punch down the dough, roll it out into a 12-inch circle on a floured surface, and transfer to the prepared pan\n",
    "7. Spread 1/2 cup of tomato sauce evenly over the dough, leaving a 1-inch border for the crust\n",
    "8. Sprinkle shredded mozzarella cheese over the sauce and add your chosen toppings (pepperoni, vegetables, etc.)\n",
    "9. Bake in the preheated oven for 12-15 minutes until the crust is golden brown and cheese is bubbly and slightly browned\n",
    "10. Remove from oven, let cool for 2-3 minutes, slice into 8 pieces, and serve\n",
    "\n",
    "---\n",
    "\n",
    "## Hack 2: Identify the Bug\n",
    "\n",
    "**Corrected Algorithm: Send an Email**\n",
    "1. Open email application\n",
    "2. Log into your account\n",
    "3. Click \"Compose\" or \"New Email\" button\n",
    "4. Enter recipient's email address\n",
    "5. Write subject line\n",
    "6. Type the message\n",
    "7. Click \"Send\"\n",
    "\n",
    "---\n",
    "\n",
    "## Hack 3: Code the Algorithm\n",
    "\n",
    "---"
   ]
  },
  {
   "cell_type": "code",
   "execution_count": null,
   "id": "6be838f5",
   "metadata": {},
   "outputs": [],
   "source": [
    "# Grade Calculator Algorithm in Python\n",
    "\n",
    "# Step 1: Get three test scores from user\n",
    "print(\"Grade Calculator\")\n",
    "print(\"-\" * 30)\n",
    "\n",
    "score1 = float(input(\"Enter first test score: \"))\n",
    "score2 = float(input(\"Enter second test score: \"))\n",
    "score3 = float(input(\"Enter third test score: \"))\n",
    "\n",
    "# Step 2: Add them together\n",
    "total = score1 + score2 + score3\n",
    "\n",
    "# Step 3: Divide by 3 to get average\n",
    "average = total / 3\n",
    "\n",
    "# Steps 4-8: Determine grade based on average\n",
    "if average >= 90:\n",
    "    grade = \"A\"\n",
    "elif average >= 80:\n",
    "    grade = \"B\"\n",
    "elif average >= 70:\n",
    "    grade = \"C\"\n",
    "elif average >= 60:\n",
    "    grade = \"D\"\n",
    "else:\n",
    "    grade = \"F\"\n",
    "\n",
    "# Step 9: Display the grade\n",
    "print(f\"\\nYour average score is: {average:.2f}\")\n",
    "print(f\"Your grade is: {grade}\")"
   ]
  }
 ],
 "metadata": {
  "language_info": {
   "name": "python"
  }
 },
 "nbformat": 4,
 "nbformat_minor": 5
}
