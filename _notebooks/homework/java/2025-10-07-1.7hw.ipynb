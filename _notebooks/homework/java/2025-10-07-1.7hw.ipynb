{
 "cells": [
  {
   "cell_type": "raw",
   "id": "66a33327",
   "metadata": {
    "vscode": {
     "languageId": "raw"
    }
   },
   "source": [
    "---\n",
    "layout: post\n",
    "toc: true\n",
    "title: Unit 1 HW 7\n",
    "permalink: /csa/unit_01/1_7\n",
    "---"
   ]
  },
  {
   "cell_type": "markdown",
   "id": "69fbbd03",
   "metadata": {},
   "source": [
    "# Popcorn Hack 1"
   ]
  },
  {
   "cell_type": "code",
   "execution_count": 1,
   "id": "4c8f84e6",
   "metadata": {
    "vscode": {
     "languageId": "java"
    }
   },
   "outputs": [
    {
     "name": "stdout",
     "output_type": "stream",
     "text": [
      "3^4 = 81.0\n",
      "Square root of 64 = 8.0\n",
      "Number of colors: 3\n",
      "Colors list: [red, blue, green]\n"
     ]
    }
   ],
   "source": [
    "// Popcorn Hack #1: Complete this code\n",
    "\n",
    "import java.util.ArrayList;\n",
    "\n",
    "public class PopcornHack1 {\n",
    "    public static void main(String[] args) {\n",
    "        // Use Math.pow() to calculate 3^4\n",
    "        double power = Math.pow(3, 4);\n",
    "        System.out.println(\"3^4 = \" + power);\n",
    "        \n",
    "        // Use Math.sqrt() to find square root of 64\n",
    "        double sqrt = Math.sqrt(64);\n",
    "        System.out.println(\"Square root of 64 = \" + sqrt);\n",
    "        \n",
    "        // Create ArrayList of Strings\n",
    "        ArrayList<String> colors = new ArrayList<>();\n",
    "        \n",
    "        // Add 3 colors (\"red\", \"blue\", \"green\")\n",
    "        colors.add(\"red\");\n",
    "        colors.add(\"blue\");\n",
    "        colors.add(\"green\");\n",
    "        \n",
    "        // Print the size\n",
    "        System.out.println(\"Number of colors: \" + colors.size());\n",
    "        System.out.println(\"Colors list: \" + colors);\n",
    "    }\n",
    "}\n",
    "\n",
    "PopcornHack1.main(null);"
   ]
  },
  {
   "cell_type": "markdown",
   "id": "2e8fb409",
   "metadata": {},
   "source": [
    "# Popcorn Hack 2"
   ]
  },
  {
   "cell_type": "code",
   "execution_count": 2,
   "id": "0ad6ab6e",
   "metadata": {
    "vscode": {
     "languageId": "java"
    }
   },
   "outputs": [
    {
     "name": "stdout",
     "output_type": "stream",
     "text": [
      "=== Book 1 ===\n",
      "Title: Java Basics\n",
      "Author: John Doe\n",
      "Pages: 350\n",
      "Is this a long book? true\n",
      "\n",
      "=== Book 2 ===\n",
      "Title: Quick Guide\n",
      "Author: Jane Smith\n",
      "Pages: 150\n",
      "Is this a long book? false\n"
     ]
    }
   ],
   "source": [
    "// Popcorn Hack #2: Complete the Book class\n",
    "\n",
    "public class Book {\n",
    "    // Add 3 attributes (title, author, pages)\n",
    "    private String title;\n",
    "    private String author;\n",
    "    private int pages;\n",
    "    \n",
    "    // Add constructor\n",
    "    public Book(String title, String author, int pages) {\n",
    "        this.title = title;\n",
    "        this.author = author;\n",
    "        this.pages = pages;\n",
    "    }\n",
    "    \n",
    "    // Add displayInfo() method\n",
    "    public void displayInfo() {\n",
    "        System.out.println(\"Title: \" + title);\n",
    "        System.out.println(\"Author: \" + author);\n",
    "        System.out.println(\"Pages: \" + pages);\n",
    "    }\n",
    "    \n",
    "    // Add isLong() method (returns true if pages > 300)\n",
    "    public boolean isLong() {\n",
    "        return pages > 300;\n",
    "    }\n",
    "}\n",
    "\n",
    "// Create a Book object and test all methods\n",
    "Book myBook = new Book(\"Java Basics\", \"John Doe\", 350);\n",
    "System.out.println(\"=== Book 1 ===\");\n",
    "myBook.displayInfo();\n",
    "System.out.println(\"Is this a long book? \" + myBook.isLong());\n",
    "\n",
    "System.out.println(\"\\n=== Book 2 ===\");\n",
    "Book shortBook = new Book(\"Quick Guide\", \"Jane Smith\", 150);\n",
    "shortBook.displayInfo();\n",
    "System.out.println(\"Is this a long book? \" + shortBook.isLong());"
   ]
  },
  {
   "cell_type": "markdown",
   "id": "4ebb9750",
   "metadata": {},
   "source": [
    "# Homework Hack 1"
   ]
  },
  {
   "cell_type": "code",
   "execution_count": 3,
   "id": "34c79228",
   "metadata": {
    "vscode": {
     "languageId": "java"
    }
   },
   "outputs": [
    {
     "name": "stdout",
     "output_type": "stream",
     "text": [
      "=== PHONE 1 ===\n",
      "Brand: Apple\n",
      "Model: iPhone 15\n",
      "Battery Level: 100%\n",
      "\n",
      "Added contact: Alice\n",
      "Added contact: Bob\n",
      "Added contact: Charlie\n",
      "\n",
      "Used phone for 25 minutes. Battery now at: 75%\n",
      "\n",
      "Brand: Apple\n",
      "Model: iPhone 15\n",
      "Battery Level: 75%\n",
      "Contacts (3):\n",
      "  1. Alice\n",
      "  2. Bob\n",
      "  3. Charlie\n",
      "\n",
      "=== PHONE 2 ===\n",
      "Brand: Samsung\n",
      "Model: Galaxy S24\n",
      "Battery Level: 100%\n",
      "\n",
      "Added contact: David\n",
      "Added contact: Emma\n",
      "Added contact: Frank\n",
      "\n",
      "Used phone for 40 minutes. Battery now at: 60%\n",
      "\n",
      "Brand: Samsung\n",
      "Model: Galaxy S24\n",
      "Battery Level: 60%\n",
      "Contacts (3):\n",
      "  1. David\n",
      "  2. Emma\n",
      "  3. Frank\n"
     ]
    }
   ],
   "source": [
    "// Homework Hack: Complete the Phone class\n",
    "\n",
    "import java.util.ArrayList;\n",
    "\n",
    "public class Phone {\n",
    "    // Add 4 attributes\n",
    "    private String brand;\n",
    "    private String model;\n",
    "    private int batteryLevel;\n",
    "    private ArrayList<String> contacts;\n",
    "    \n",
    "    // Add constructor\n",
    "    public Phone(String brand, String model) {\n",
    "        this.brand = brand;\n",
    "        this.model = model;\n",
    "        this.batteryLevel = 100;  // Starts at 100\n",
    "        this.contacts = new ArrayList<>();  // Initialize empty contacts list\n",
    "    }\n",
    "    \n",
    "    // Add displayInfo() method\n",
    "    public void displayInfo() {\n",
    "        System.out.println(\"Brand: \" + brand);\n",
    "        System.out.println(\"Model: \" + model);\n",
    "        System.out.println(\"Battery Level: \" + batteryLevel + \"%\");\n",
    "    }\n",
    "    \n",
    "    // Add addContact(String name) method\n",
    "    public void addContact(String name) {\n",
    "        contacts.add(name);\n",
    "        System.out.println(\"Added contact: \" + name);\n",
    "    }\n",
    "    \n",
    "    // Add showContacts() method\n",
    "    public void showContacts() {\n",
    "        System.out.println(\"Contacts (\" + contacts.size() + \"):\");\n",
    "        if (contacts.isEmpty()) {\n",
    "            System.out.println(\"  No contacts\");\n",
    "        } else {\n",
    "            for (int i = 0; i < contacts.size(); i++) {\n",
    "                System.out.println(\"  \" + (i + 1) + \". \" + contacts.get(i));\n",
    "            }\n",
    "        }\n",
    "    }\n",
    "    \n",
    "    // Add usePhone(int minutes) method\n",
    "    public void usePhone(int minutes) {\n",
    "        batteryLevel -= minutes;\n",
    "        if (batteryLevel < 0) {\n",
    "            batteryLevel = 0;  // Battery can't go below 0\n",
    "        }\n",
    "        System.out.println(\"Used phone for \" + minutes + \" minutes. Battery now at: \" + batteryLevel + \"%\");\n",
    "    }\n",
    "}\n",
    "\n",
    "// Test your Phone class\n",
    "class PhoneTest {\n",
    "    public static void main(String[] args) {\n",
    "        System.out.println(\"=== PHONE 1 ===\");\n",
    "        // Create Phone object 1\n",
    "        Phone phone1 = new Phone(\"Apple\", \"iPhone 15\");\n",
    "        phone1.displayInfo();\n",
    "        System.out.println();\n",
    "        \n",
    "        // Add 3 contacts to phone1\n",
    "        phone1.addContact(\"Alice\");\n",
    "        phone1.addContact(\"Bob\");\n",
    "        phone1.addContact(\"Charlie\");\n",
    "        System.out.println();\n",
    "        \n",
    "        // Use phone for some minutes\n",
    "        phone1.usePhone(25);\n",
    "        System.out.println();\n",
    "        \n",
    "        // Display all information\n",
    "        phone1.displayInfo();\n",
    "        phone1.showContacts();\n",
    "        \n",
    "        System.out.println(\"\\n=== PHONE 2 ===\");\n",
    "        // Create Phone object 2\n",
    "        Phone phone2 = new Phone(\"Samsung\", \"Galaxy S24\");\n",
    "        phone2.displayInfo();\n",
    "        System.out.println();\n",
    "        \n",
    "        // Add 3 contacts to phone2\n",
    "        phone2.addContact(\"David\");\n",
    "        phone2.addContact(\"Emma\");\n",
    "        phone2.addContact(\"Frank\");\n",
    "        System.out.println();\n",
    "        \n",
    "        // Use phone for some minutes\n",
    "        phone2.usePhone(40);\n",
    "        System.out.println();\n",
    "        \n",
    "        // Display all information\n",
    "        phone2.displayInfo();\n",
    "        phone2.showContacts();\n",
    "    }\n",
    "}\n",
    "\n",
    "PhoneTest.main(null);"
   ]
  }
 ],
 "metadata": {
  "kernelspec": {
   "display_name": "Java",
   "language": "java",
   "name": "java"
  },
  "language_info": {
   "codemirror_mode": "java",
   "file_extension": ".jshell",
   "mimetype": "text/x-java-source",
   "name": "Java",
   "pygments_lexer": "java",
   "version": "17.0.16+8-Ubuntu-0ubuntu124.04.1"
  }
 },
 "nbformat": 4,
 "nbformat_minor": 5
}
