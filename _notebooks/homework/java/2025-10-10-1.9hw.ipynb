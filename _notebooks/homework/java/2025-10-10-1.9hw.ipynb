{
 "cells": [
  {
   "cell_type": "raw",
   "id": "781214d9",
   "metadata": {
    "vscode": {
     "languageId": "raw"
    }
   },
   "source": [
    "---\n",
    "layout: post\n",
    "toc: true\n",
    "title: Unit 1 HW 9\n",
    "permalink: /csa/unit_01/1_9\n",
    "---"
   ]
  },
  {
   "cell_type": "markdown",
   "id": "189913d3",
   "metadata": {},
   "source": [
    "# Popcorn Hack 1"
   ]
  },
  {
   "cell_type": "code",
   "execution_count": 1,
   "id": "65fa5517",
   "metadata": {},
   "outputs": [
    {
     "name": "stdout",
     "output_type": "stream",
     "text": [
      "9\n",
      "-2\n",
      "3.5\n",
      "2.0\n",
      "\n"
     ]
    }
   ],
   "source": [
    "class PopcornMax {\n",
    "    public static int max(int a, int b) {\n",
    "        return a >= b ? a : b;\n",
    "    }\n",
    "\n",
    "    public static double max(double a, double b) {\n",
    "        return a >= b ? a : b;\n",
    "    }\n",
    "\n",
    "    public static void testPopcornMax() {\n",
    "        System.out.println(max(3, 9));      \n",
    "        System.out.println(max(-2, -7));   \n",
    "        System.out.println(max(3.5, 2.9));  \n",
    "        System.out.println(max(2, 2.0));    \n",
    "        System.out.println();\n",
    "    }\n",
    "}\n",
    "\n",
    "PopcornMax.testPopcornMax();"
   ]
  },
  {
   "cell_type": "markdown",
   "id": "9112dd25",
   "metadata": {},
   "source": [
    "# Popcorn Hack 2"
   ]
  },
  {
   "cell_type": "code",
   "execution_count": 4,
   "id": "5c7b2bb9",
   "metadata": {},
   "outputs": [
    {
     "name": "stdout",
     "output_type": "stream",
     "text": [
      "int:42\n",
      "str:hello\n",
      "str:A!\n",
      "\n"
     ]
    }
   ],
   "source": [
    "class PopcornPrint {\n",
    "    static void print(int n) {\n",
    "        System.out.println(\"int:\" + n);\n",
    "    }\n",
    "\n",
    "    static void print(String s) {\n",
    "        System.out.println(\"str:\" + s);\n",
    "    }\n",
    "\n",
    "    public static void testPopcornPrint() {\n",
    "        print(42);\n",
    "        print(\"hello\");\n",
    "        print('A' + \"!\");\n",
    "        System.out.println();\n",
    "    }\n",
    "}\n",
    "\n",
    "PopcornPrint.testPopcornPrint();"
   ]
  },
  {
   "cell_type": "markdown",
   "id": "3472607d",
   "metadata": {},
   "source": [
    "# Short Answer Questions"
   ]
  },
  {
   "cell_type": "markdown",
   "id": "5cca657d",
   "metadata": {},
   "source": [
    "1. They have identical signatures (same name and parameter types); return type alone cannot distinguish overloaded methods in Java.\n",
    "2. Parameters are variables in the method declaration, while arguments are the actual values passed when calling the method."
   ]
  },
  {
   "cell_type": "code",
   "execution_count": 7,
   "id": "d8ad613a",
   "metadata": {},
   "outputs": [
    {
     "name": "stdout",
     "output_type": "stream",
     "text": [
      "Task 1:\n",
      "abs(-5) = 5\n",
      "abs(-3.7) = 3.7\n",
      "abs(-1000000000L) = 1000000000\n",
      "\n",
      "Task 2:\n",
      "Hello World\n",
      "HaHaHa\n",
      "*****\n",
      "\n",
      "Task 3:\n",
      "show(7): int\n",
      "show(7L): long\n",
      "show(7.0): double\n",
      "\n"
     ]
    }
   ],
   "source": [
    "class AbsOverloads {\n",
    "    public static int abs(int x) {\n",
    "        return x < 0 ? -x : x;\n",
    "    }\n",
    "\n",
    "    public static double abs(double x) {\n",
    "        return x < 0 ? -x : x;\n",
    "    }\n",
    "\n",
    "    public static long abs(long x) {\n",
    "        return x < 0 ? -x : x;\n",
    "    }\n",
    "\n",
    "    public static void test() {\n",
    "        System.out.println(\"Task 1:\");\n",
    "        System.out.println(\"abs(-5) = \" + abs(-5));\n",
    "        System.out.println(\"abs(-3.7) = \" + abs(-3.7));\n",
    "        System.out.println(\"abs(-1000000000L) = \" + abs(-1000000000L));\n",
    "        System.out.println();\n",
    "    }\n",
    "}\n",
    "AbsOverloads.test();\n",
    "\n",
    "\n",
    "class ConcatOverloads {\n",
    "    public static String concat(String a, String b) {\n",
    "        return a + b;\n",
    "    }\n",
    "\n",
    "    public static String concat(String a, int n) {\n",
    "        String result = \"\";\n",
    "        for (int i = 0; i < n; i++) {\n",
    "            result += a;\n",
    "        }\n",
    "        return result;\n",
    "    }\n",
    "\n",
    "    public static void test() {\n",
    "        System.out.println(\"Task 2:\");\n",
    "        System.out.println(concat(\"Hello\", \" World\"));\n",
    "        System.out.println(concat(\"Ha\", 3));\n",
    "        System.out.println(concat(\"*\", 5));\n",
    "        System.out.println();\n",
    "    }\n",
    "}\n",
    "\n",
    "ConcatOverloads.test();\n",
    "\n",
    "class ShowOverloads {\n",
    "    static void show(int x) {\n",
    "        System.out.println(\"int\");\n",
    "    }\n",
    "\n",
    "    static void show(double x) {\n",
    "        System.out.println(\"double\");\n",
    "    }\n",
    "\n",
    "    static void show(long x) {\n",
    "        System.out.println(\"long\");\n",
    "    }\n",
    "\n",
    "    public static void test() {\n",
    "        System.out.println(\"Task 3:\");\n",
    "        System.out.print(\"show(7): \");\n",
    "        show(7);\n",
    "        System.out.print(\"show(7L): \");\n",
    "        show(7L);\n",
    "        System.out.print(\"show(7.0): \");\n",
    "        show(7.0);\n",
    "        System.out.println();\n",
    "    }\n",
    "}\n",
    "\n",
    "ShowOverloads.test();"
   ]
  },
  {
   "cell_type": "markdown",
   "id": "fcacf528",
   "metadata": {},
   "source": [
    "# FRQ 1"
   ]
  },
  {
   "cell_type": "code",
   "execution_count": null,
   "id": "c014a775",
   "metadata": {},
   "outputs": [
    {
     "name": "stdout",
     "output_type": "stream",
     "text": [
      "=== FRQ 1: indexOf overloads ===\n",
      "Assumptions: null inputs handled by caller; case-sensitive search\n",
      "\n",
      "indexOf('o', \"hello\") = 4\n",
      "indexOf('x', \"hello\") = -1\n",
      "indexOf(\"lo\", \"hello\") = 3\n",
      "indexOf(\"world\", \"hello\") = -1\n",
      "indexOf(\"\", \"hello\") = 0\n",
      "\n"
     ]
    }
   ],
   "source": [
    "class IndexOfOverloads {\n",
    "    public static int indexOf(char target, String s) {\n",
    "        for (int i = 0; i < s.length(); i++) {\n",
    "            if (s.charAt(i) == target) {\n",
    "                return i;\n",
    "            }\n",
    "        }\n",
    "        return -1;\n",
    "    }\n",
    "    public static int indexOf(String target, String s) {\n",
    "        if (target.length() == 0) return 0;\n",
    "        if (target.length() > s.length()) return -1;\n",
    "        \n",
    "        for (int i = 0; i <= s.length() - target.length(); i++) {\n",
    "            boolean match = true;\n",
    "            for (int j = 0; j < target.length(); j++) {\n",
    "                if (s.charAt(i + j) != target.charAt(j)) {\n",
    "                    match = false;\n",
    "                    break;\n",
    "                }\n",
    "            }\n",
    "            if (match) return i;\n",
    "        }\n",
    "        return -1;\n",
    "    }\n",
    "\n",
    "    public static void test() {\n",
    "        System.out.println(\"Assumptions: null inputs handled by caller; case-sensitive search\");\n",
    "        System.out.println();\n",
    "        System.out.println(\"indexOf('o', \\\"hello\\\") = \" + indexOf('o', \"hello\"));       // 4\n",
    "        System.out.println(\"indexOf('x', \\\"hello\\\") = \" + indexOf('x', \"hello\"));       // -1\n",
    "        System.out.println(\"indexOf(\\\"lo\\\", \\\"hello\\\") = \" + indexOf(\"lo\", \"hello\"));   // 3\n",
    "        System.out.println(\"indexOf(\\\"world\\\", \\\"hello\\\") = \" + indexOf(\"world\", \"hello\")); // -1\n",
    "        System.out.println(\"indexOf(\\\"\\\", \\\"hello\\\") = \" + indexOf(\"\", \"hello\"));       // 0\n",
    "        System.out.println();\n",
    "    }\n",
    "}\n",
    "\n",
    "IndexOfOverloads.test();"
   ]
  },
  {
   "cell_type": "markdown",
   "id": "e25418be",
   "metadata": {},
   "source": [
    "# FRQ 2"
   ]
  },
  {
   "cell_type": "code",
   "execution_count": null,
   "id": "0647ccf5",
   "metadata": {},
   "outputs": [
    {
     "name": "stdout",
     "output_type": "stream",
     "text": [
      "=== FRQ 2: clamp overloads ===\n",
      "clamp(5, 1, 10) = 5\n",
      "clamp(15, 1, 10) = 10\n",
      "clamp(-5, 1, 10) = 1\n",
      "clamp(5, 10, 1) = 5\n",
      "\n",
      "clamp(5.5, 1.0, 10.0) = 5.5\n",
      "clamp(15.5, 1.0, 10.0) = 10.0\n",
      "clamp(-5.5, 1.0, 10.0) = 1.0\n",
      "\n"
     ]
    }
   ],
   "source": [
    "class ClampOverloads {\n",
    "    public static int clamp(int value, int low, int high) {\n",
    "        if (low > high) {\n",
    "            int temp = low;\n",
    "            low = high;\n",
    "            high = temp;\n",
    "        }\n",
    "        \n",
    "        if (value < low) return low;\n",
    "        if (value > high) return high;\n",
    "        return value;\n",
    "    }\n",
    "\n",
    "    public static double clamp(double value, double low, double high) {\n",
    "        if (low > high) {\n",
    "            double temp = low;\n",
    "            low = high;\n",
    "            high = temp;\n",
    "        }\n",
    "        \n",
    "        if (value < low) return low;\n",
    "        if (value > high) return high;\n",
    "        return value;\n",
    "    }\n",
    "\n",
    "    public static void test() {\n",
    "        System.out.println(\"clamp(5, 1, 10) = \" + clamp(5, 1, 10));\n",
    "        System.out.println(\"clamp(15, 1, 10) = \" + clamp(15, 1, 10));\n",
    "        System.out.println(\"clamp(-5, 1, 10) = \" + clamp(-5, 1, 10));\n",
    "        System.out.println(\"clamp(5, 10, 1) = \" + clamp(5, 10, 1));\n",
    "        System.out.println();\n",
    "        System.out.println(\"clamp(5.5, 1.0, 10.0) = \" + clamp(5.5, 1.0, 10.0));\n",
    "        System.out.println(\"clamp(15.5, 1.0, 10.0) = \" + clamp(15.5, 1.0, 10.0));\n",
    "        System.out.println(\"clamp(-5.5, 1.0, 10.0) = \" + clamp(-5.5, 1.0, 10.0));\n",
    "        System.out.println();\n",
    "    }\n",
    "}\n",
    "\n",
    "ClampOverloads.test();"
   ]
  }
 ],
 "metadata": {
  "kernelspec": {
   "display_name": "Java",
   "language": "java",
   "name": "java"
  },
  "language_info": {
   "codemirror_mode": "java",
   "file_extension": ".jshell",
   "mimetype": "text/x-java-source",
   "name": "java",
   "pygments_lexer": "java",
   "version": "17.0.16+8-Ubuntu-0ubuntu124.04.1"
  }
 },
 "nbformat": 4,
 "nbformat_minor": 5
}
