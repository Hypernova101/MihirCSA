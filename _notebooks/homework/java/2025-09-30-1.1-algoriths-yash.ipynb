{
 "cells": [
  {
   "cell_type": "raw",
   "id": "f7260918",
   "metadata": {
    "vscode": {
     "languageId": "raw"
    }
   },
   "source": [
    "---\n",
    "layout: post\n",
    "toc: true\n",
    "title: Introduction to Algorithms, Programming, and Compilers\n",
    "permalink: /csa/unit_01/1_1-yash\n",
    "author: Yash Parikh\n",
    "---"
   ]
  },
  {
   "cell_type": "markdown",
   "id": "94266b20",
   "metadata": {},
   "source": [
    "## Hack 1: Create My Own Algorithm\n",
    "\n",
    "**Activity chosen:** Getting ready for a basketball game\n",
    "\n",
    "**Algorithm:**\n",
    "\n",
    "1. Check the game schedule for time and location (2 hours before game)\n",
    "2. Gather my basketball uniform (jersey, shorts, socks) and place in gym bag\n",
    "3. Pack water bottle, towel, and any athletic tape or braces I need\n",
    "4. Eat a light meal or snack 90 minutes before game time (avoid heavy foods)\n",
    "5. Change into athletic wear and basketball shoes\n",
    "6. Do 10-15 minutes of light stretching (focusing on legs, arms, and back)\n",
    "7. Arrive at the game location 30 minutes early\n",
    "8. Warm up with team: light jogging, layup drills, and shooting practice\n",
    "9. Attend pre-game team huddle and review game strategy\n",
    "10. Get on court when starting lineup is called"
   ]
  },
  {
   "cell_type": "markdown",
   "id": "00810f10",
   "metadata": {},
   "source": [
    "## Hack 2: Identify the Bug\n",
    "\n",
    "**Corrected Algorithm: Send an Email**\n",
    "\n",
    "1. Open email application\n",
    "2. Log into my account\n",
    "3. Click \"Compose\" or \"New Email\"\n",
    "4. Enter recipient's email address\n",
    "5. Write subject line\n",
    "6. Type the message\n",
    "7. Review the email for errors\n",
    "8. Click \"Send\""
   ]
  },
  {
   "cell_type": "markdown",
   "id": "d45a9912",
   "metadata": {},
   "source": [
    "## Hack 3: Code the Algorithm\n",
    "\n",
    "Here's my code for the Grade Calculator:"
   ]
  },
  {
   "cell_type": "code",
   "execution_count": 1,
   "id": "0b11ab9b",
   "metadata": {},
   "outputs": [
    {
     "name": "stdout",
     "output_type": "stream",
     "text": [
      "Test 1: A\n",
      "Test 2: B\n",
      "Test 3: C\n",
      "Test 4: D\n",
      "Test 5: F\n"
     ]
    }
   ],
   "source": [
    "def calculate_grade(score1, score2, score3):\n",
    "    \"\"\"\n",
    "    Calculate letter grade from three test scores\n",
    "    \n",
    "    Args:\n",
    "        score1, score2, score3: Test scores (integers)\n",
    "    \n",
    "    Returns:\n",
    "        grade: Letter grade (string)\n",
    "    \"\"\"\n",
    "    # Step 1: Add the three scores together\n",
    "    total = score1 + score2 + score3\n",
    "    \n",
    "    # Step 2: Calculate the average\n",
    "    average = total / 3\n",
    "    \n",
    "    # Step 3: Determine the letter grade using if-elif-else\n",
    "    if average >= 90:\n",
    "        grade = 'A'\n",
    "    elif average >= 80:\n",
    "        grade = 'B'\n",
    "    elif average >= 70:\n",
    "        grade = 'C'\n",
    "    elif average >= 60:\n",
    "        grade = 'D'\n",
    "    else:\n",
    "        grade = 'F'\n",
    "    \n",
    "    # Step 4: Return the grade\n",
    "    return grade\n",
    "\n",
    "# Test the function!\n",
    "print(\"Test 1:\", calculate_grade(95, 92, 88))  # Should be 'A'\n",
    "print(\"Test 2:\", calculate_grade(85, 80, 82))  # Should be 'B'\n",
    "print(\"Test 3:\", calculate_grade(75, 70, 72))  # Should be 'C'\n",
    "print(\"Test 4:\", calculate_grade(65, 60, 62))  # Should be 'D'\n",
    "print(\"Test 5:\", calculate_grade(55, 50, 52))  # Should be 'F'"
   ]
  }
 ],
 "metadata": {
  "kernelspec": {
   "display_name": "venv (3.12.3)",
   "language": "python",
   "name": "python3"
  },
  "language_info": {
   "codemirror_mode": {
    "name": "ipython",
    "version": 3
   },
   "file_extension": ".py",
   "mimetype": "text/x-python",
   "name": "python",
   "nbconvert_exporter": "python",
   "pygments_lexer": "ipython3",
   "version": "3.12.3"
  }
 },
 "nbformat": 4,
 "nbformat_minor": 5
}
