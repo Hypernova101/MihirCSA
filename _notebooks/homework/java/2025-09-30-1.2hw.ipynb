{
 "cells": [
  {
   "cell_type": "raw",
   "id": "e12cedf3",
   "metadata": {
    "vscode": {
     "languageId": "raw"
    }
   },
   "source": [
    "---\n",
    "layout: post\n",
    "toc: true\n",
    "title: Unit 1 HW 2\n",
    "permalink: /csa/unit_01/1_2\n",
    "---"
   ]
  },
  {
   "cell_type": "markdown",
   "id": "f2c3dfe9",
   "metadata": {},
   "source": [
    "# Popcorn Hack 1"
   ]
  },
  {
   "cell_type": "code",
   "execution_count": 1,
   "id": "cd3457b6",
   "metadata": {},
   "outputs": [
    {
     "name": "stdout",
     "output_type": "stream",
     "text": [
      "Personal Information:\n",
      "Favorite Food: Pizza\n",
      "Age: 16\n",
      "Height: 5.9 feet\n",
      "Likes Pizza: true\n",
      "First Letter of Favorite Color: B\n",
      "Birth Year: 2009\n"
     ]
    }
   ],
   "source": [
    "public class PersonalInfo {\n",
    "    // These values can change\n",
    "    public static String favoritFood = \"Pizza\";\n",
    "    public static int age = 16;\n",
    "    public static double heightInFeet = 5.9;\n",
    "    public static boolean likesPizza = true;\n",
    "    public static char firstLetterFavColor = 'B';\n",
    "    \n",
    "    // Only birth year never changes\n",
    "    public static final int BIRTH_YEAR = 2009;\n",
    "    \n",
    "    // Optional: Method to display all information\n",
    "    public static void displayInfo() {\n",
    "        System.out.println(\"Personal Information:\");\n",
    "        System.out.println(\"Favorite Food: \" + favoritFood);\n",
    "        System.out.println(\"Age: \" + age);\n",
    "        System.out.println(\"Height: \" + heightInFeet + \" feet\");\n",
    "        System.out.println(\"Likes Pizza: \" + likesPizza);\n",
    "        System.out.println(\"First Letter of Favorite Color: \" + firstLetterFavColor);\n",
    "        System.out.println(\"Birth Year: \" + BIRTH_YEAR);\n",
    "    }\n",
    "    \n",
    "    // Main method for testing\n",
    "    public static void main(String[] args) {\n",
    "        displayInfo();\n",
    "    }\n",
    "}\n",
    "\n",
    "PersonalInfo.displayInfo();"
   ]
  },
  {
   "cell_type": "markdown",
   "id": "a244c396",
   "metadata": {},
   "source": [
    "# Popcorn Hack 2"
   ]
  },
  {
   "cell_type": "code",
   "execution_count": 2,
   "id": "4856200d",
   "metadata": {},
   "outputs": [
    {
     "name": "stdout",
     "output_type": "stream",
     "text": [
      "===== PICK THE TYPE =====\n",
      "Number of siblings: 3\n",
      "First name: Mihir\n",
      "Are you hungry? false\n",
      "Favorite letter: M\n",
      "Height: 68.5 inches\n",
      "Days in a year: 365\n",
      "\n"
     ]
    }
   ],
   "source": [
    "class PickTheType {\n",
    "    public static void main(String[] args) {\n",
    "        // 1. Number of siblings → int (whole number, counting)\n",
    "        int siblings = 3;\n",
    "        \n",
    "        // 2. Your first name → String (text/words)\n",
    "        String firstName = \"Mihir\";\n",
    "        \n",
    "        // 3. Are you hungry? → boolean (yes/no, true/false)\n",
    "        boolean isHungry = false;\n",
    "        \n",
    "        // 4. Your favorite letter → char (single character)\n",
    "        char favoriteLetter = 'M';\n",
    "        \n",
    "        // 5. Your height in inches → double (might have decimals)\n",
    "        double heightInches = 68.5;\n",
    "        \n",
    "        // 6. Number of days in a year → final int (never changes!)\n",
    "        final int DAYS_IN_YEAR = 365;\n",
    "        \n",
    "        // Display everything\n",
    "        System.out.println(\"===== PICK THE TYPE =====\");\n",
    "        System.out.println(\"Number of siblings: \" + siblings);\n",
    "        System.out.println(\"First name: \" + firstName);\n",
    "        System.out.println(\"Are you hungry? \" + isHungry);\n",
    "        System.out.println(\"Favorite letter: \" + favoriteLetter);\n",
    "        System.out.println(\"Height: \" + heightInches + \" inches\");\n",
    "        System.out.println(\"Days in a year: \" + DAYS_IN_YEAR);\n",
    "        System.out.println();\n",
    "    }\n",
    "}\n",
    "\n",
    "PickTheType.main(null);"
   ]
  },
  {
   "cell_type": "markdown",
   "id": "ee22c0dd",
   "metadata": {},
   "source": [
    "# Homework Hack 1"
   ]
  },
  {
   "cell_type": "code",
   "execution_count": 3,
   "id": "7b10ae7b",
   "metadata": {},
   "outputs": [
    {
     "name": "stdout",
     "output_type": "stream",
     "text": [
      "===== GRADE REPORT =====\n",
      "Student: Mihir Bapat\n",
      "Class: AP Computer Science A\n",
      "\n",
      "Test Scores:\n",
      "  Test 1: 87\n",
      "  Test 2: 93\n",
      "  Test 3: 90\n",
      "\n",
      "Average: 90.0\n",
      "Letter Grade: A\n",
      "========================\n",
      "\n"
     ]
    }
   ],
   "source": [
    "class GradeCalculator {\n",
    "    public static void main(String[] args) {\n",
    "        // Student information (final because they don't change)\n",
    "        final String STUDENT_NAME = \"Mihir Bapat\";\n",
    "        final String CLASS_NAME = \"AP Computer Science A\";\n",
    "        \n",
    "        // Three test scores (whole numbers from 0-100)\n",
    "        int test1 = 87;\n",
    "        int test2 = 93;\n",
    "        int test3 = 90;\n",
    "        \n",
    "        // Calculate the average\n",
    "        double average = (test1 + test2 + test3) / 3.0;\n",
    "        \n",
    "        // Determine letter grade\n",
    "        char letterGrade;\n",
    "        if (average >= 90) {\n",
    "            letterGrade = 'A';\n",
    "        } else if (average >= 80) {\n",
    "            letterGrade = 'B';\n",
    "        } else if (average >= 70) {\n",
    "            letterGrade = 'C';\n",
    "        } else if (average >= 60) {\n",
    "            letterGrade = 'D';\n",
    "        } else {\n",
    "            letterGrade = 'F';\n",
    "        }\n",
    "        \n",
    "        // Display the results\n",
    "        System.out.println(\"===== GRADE REPORT =====\");\n",
    "        System.out.println(\"Student: \" + STUDENT_NAME);\n",
    "        System.out.println(\"Class: \" + CLASS_NAME);\n",
    "        System.out.println();\n",
    "        System.out.println(\"Test Scores:\");\n",
    "        System.out.println(\"  Test 1: \" + test1);\n",
    "        System.out.println(\"  Test 2: \" + test2);\n",
    "        System.out.println(\"  Test 3: \" + test3);\n",
    "        System.out.println();\n",
    "        System.out.println(\"Average: \" + average);\n",
    "        System.out.println(\"Letter Grade: \" + letterGrade);\n",
    "        System.out.println(\"========================\");\n",
    "        System.out.println();\n",
    "    }\n",
    "}\n",
    "\n",
    "GradeCalculator.main(null);"
   ]
  }
 ],
 "metadata": {
  "kernelspec": {
   "display_name": "Java",
   "language": "java",
   "name": "java"
  },
  "language_info": {
   "codemirror_mode": "java",
   "file_extension": ".jshell",
   "mimetype": "text/x-java-source",
   "name": "java",
   "pygments_lexer": "java",
   "version": "17.0.16+8-Ubuntu-0ubuntu124.04.1"
  }
 },
 "nbformat": 4,
 "nbformat_minor": 5
}
