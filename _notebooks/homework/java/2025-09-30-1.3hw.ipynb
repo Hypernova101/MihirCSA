{
 "cells": [
  {
   "cell_type": "raw",
   "id": "e6ef18c1",
   "metadata": {
    "vscode": {
     "languageId": "raw"
    }
   },
   "source": [
    "---\n",
    "layout: post\n",
    "toc: true\n",
    "title: Unit 1 HW 3\n",
    "permalink: /csa/unit_01/1_3\n",
    "---"
   ]
  },
  {
   "cell_type": "markdown",
   "id": "64edf129",
   "metadata": {},
   "source": [
    "# Popcorn Hack 1"
   ]
  },
  {
   "cell_type": "markdown",
   "id": "343aac5f",
   "metadata": {},
   "source": [
    "Key formatting tools:\n",
    "\n",
    " - System.out.println() - prints text and moves to a new line\n",
    " - System.out.print() - prints text without moving to a new line\n",
    " - System.out.printf() - prints with formatted placeholders\n",
    " - \\\" - escape sequence for double quotes\n",
    " - \\\\ - escape sequence for backslash\n",
    " - \\n - escape sequence for newline\n",
    " - \\t - escape sequence for tab"
   ]
  },
  {
   "cell_type": "code",
   "execution_count": 2,
   "id": "24a72c26",
   "metadata": {},
   "outputs": [
    {
     "name": "stdout",
     "output_type": "stream",
     "text": [
      "Name:\t\"John Doe\"\n",
      "Path:\tC:\\Hello\\John\n",
      "Score:\t95\n"
     ]
    }
   ],
   "source": [
    "System.out.println(\"Name:\\t\\\"John Doe\\\"\\nPath:\\tC:\\\\Hello\\\\John\\nScore:\\t95\");"
   ]
  },
  {
   "cell_type": "markdown",
   "id": "70414527",
   "metadata": {},
   "source": [
    "# Popcorn Hack 2"
   ]
  },
  {
   "cell_type": "markdown",
   "id": "a820eac8",
   "metadata": {},
   "source": [
    "---\n",
    "\n",
    "**Formatting tools used in Menu.java:**\n",
    "- `System.out.println()` - prints each menu option on a separate line for clarity\n",
    "- `System.out.print()` - prints the prompt without a newline, so user input appears on the same line\n",
    "- String concatenation with `+` - combines strings and numbers to create meaningful output\n",
    "\n",
    "**Purpose:** These tools make the output cleaner by:\n",
    "- Organizing menu options vertically for easy reading\n",
    "- Keeping the input prompt on the same line as user input\n",
    "- Clearly showing the user's selection and total options available\n",
    "\n",
    "---"
   ]
  },
  {
   "cell_type": "markdown",
   "id": "67b23ff3",
   "metadata": {},
   "source": [
    "# Homework Hack 1"
   ]
  },
  {
   "cell_type": "markdown",
   "id": "8d73c08e",
   "metadata": {},
   "source": [
    "AP CSA Rocks!!"
   ]
  },
  {
   "cell_type": "code",
   "execution_count": 3,
   "id": "765e5cd9",
   "metadata": {},
   "outputs": [
    {
     "name": "stdout",
     "output_type": "stream",
     "text": [
      "C:\\Hello\\John\n"
     ]
    }
   ],
   "source": [
    "System.out.println(\"C:\\\\Hello\\\\John\");"
   ]
  }
 ],
 "metadata": {
  "kernelspec": {
   "display_name": "Java",
   "language": "java",
   "name": "java"
  },
  "language_info": {
   "codemirror_mode": "java",
   "file_extension": ".jshell",
   "mimetype": "text/x-java-source",
   "name": "java",
   "pygments_lexer": "java",
   "version": "17.0.16+8-Ubuntu-0ubuntu124.04.1"
  }
 },
 "nbformat": 4,
 "nbformat_minor": 5
}
