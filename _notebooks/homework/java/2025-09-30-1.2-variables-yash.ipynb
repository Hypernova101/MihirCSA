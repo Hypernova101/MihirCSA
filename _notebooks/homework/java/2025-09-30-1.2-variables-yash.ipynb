{
 "cells": [
  {
   "cell_type": "raw",
   "id": "f7260918",
   "metadata": {
    "vscode": {
     "languageId": "raw"
    }
   },
   "source": [
    "---\n",
    "layout: post\n",
    "toc: true\n",
    "title: Introduction to Algorithms, Programming, and Compilers\n",
    "permalink: /csa/unit_01/1_2-yash\n",
    "author: Yash Parikh\n",
    "---"
   ]
  },
  {
   "cell_type": "markdown",
   "id": "feebebbe",
   "metadata": {},
   "source": [
    "## 🍿 Popcorn Hack #1: My Favorite Things\n",
    "\n",
    "This hack involves creating variables to store your favorite things using different data types:"
   ]
  },
  {
   "cell_type": "code",
   "execution_count": 7,
   "id": "00d012a8",
   "metadata": {
    "vscode": {
     "languageId": "java"
    }
   },
   "outputs": [
    {
     "name": "stdout",
     "output_type": "stream",
     "text": [
      "Favorite food: Tacos\n",
      "Age: 16\n",
      "Age: 16\n",
      "Height: 5.8 feet\n",
      "Height: 5.8 feet\n",
      "Likes pizza: true\n",
      "Likes pizza: true\n",
      "Favorite color starts with: G\n",
      "Favorite color starts with: G\n",
      "Born in: 2009\n",
      "Born in: 2009\n"
     ]
    }
   ],
   "source": [
    "// Practice #1 - My Favorite Things\n",
    "// Direct variable declarations and output (simpler for Jupyter)\n",
    "\n",
    "String favoriteFood = \"Tacos\";\n",
    "int myAge = 16;\n",
    "double heightInFeet = 5.8;\n",
    "boolean likesPizza = true;\n",
    "char colorFirstLetter = 'G';  // Green\n",
    "final int BIRTH_YEAR = 2009;  // Never changes\n",
    "\n",
    "System.out.println(\"Favorite food: \" + favoriteFood);\n",
    "System.out.println(\"Age: \" + myAge);\n",
    "System.out.println(\"Height: \" + heightInFeet + \" feet\");\n",
    "System.out.println(\"Likes pizza: \" + likesPizza);\n",
    "System.out.println(\"Favorite color starts with: \" + colorFirstLetter);\n",
    "System.out.println(\"Born in: \" + BIRTH_YEAR);"
   ]
  },
  {
   "cell_type": "markdown",
   "id": "59ec0216",
   "metadata": {},
   "source": [
    "## 🍿 Popcorn Hack #2: Pick the Best Type\n",
    "\n",
    "This hack involves choosing the most appropriate data type for different scenarios:"
   ]
  },
  {
   "cell_type": "code",
   "execution_count": 8,
   "id": "e009d5ea",
   "metadata": {
    "vscode": {
     "languageId": "java"
    }
   },
   "outputs": [
    {
     "name": "stdout",
     "output_type": "stream",
     "text": [
      "Siblings: 1\n",
      "Name: Jordan\n",
      "Name: Jordan\n",
      "Hungry: false\n",
      "Hungry: false\n",
      "Favorite letter: J\n",
      "Favorite letter: J\n",
      "Height: 69.5 inches\n",
      "Height: 69.5 inches\n",
      "Days per year: 365\n",
      "Days per year: 365\n"
     ]
    }
   ],
   "source": [
    "// Practice #2 - Picking the right data types\n",
    "// Direct variable declarations (better for Jupyter display)\n",
    "\n",
    "// 1. Number of siblings → int (counting, whole number)\n",
    "int siblings = 1;\n",
    "\n",
    "// 2. My first name → String (text/words)\n",
    "String firstName = \"Jordan\";\n",
    "\n",
    "// 3. Are you hungry? → boolean (yes/no, true/false)\n",
    "boolean isHungry = false;\n",
    "\n",
    "// 4. My favorite letter → char (single letter)\n",
    "char favoriteLetter = 'J';\n",
    "\n",
    "// 5. My height in inches → double (might be decimal like 65.5)\n",
    "double heightInches = 69.5;\n",
    "\n",
    "// 6. Days in a year → final int (never changes, whole number)\n",
    "final int DAYS_IN_YEAR = 365;\n",
    "\n",
    "System.out.println(\"Siblings: \" + siblings);\n",
    "System.out.println(\"Name: \" + firstName);\n",
    "System.out.println(\"Hungry: \" + isHungry);\n",
    "System.out.println(\"Favorite letter: \" + favoriteLetter);\n",
    "System.out.println(\"Height: \" + heightInches + \" inches\");\n",
    "System.out.println(\"Days per year: \" + DAYS_IN_YEAR);"
   ]
  },
  {
   "cell_type": "markdown",
   "id": "4b2cf6ac",
   "metadata": {},
   "source": [
    "## 🏠 Homework Hack: Simple Grade Calculator\n",
    "\n",
    "This homework involves creating a grade calculator that:\n",
    "- Stores student information using constants\n",
    "- Takes three test scores and calculates the average\n",
    "- Determines the letter grade based on the average\n",
    "- Displays a formatted grade report"
   ]
  },
  {
   "cell_type": "code",
   "execution_count": 9,
   "id": "516c6e97",
   "metadata": {
    "vscode": {
     "languageId": "java"
    }
   },
   "outputs": [
    {
     "name": "stdout",
     "output_type": "stream",
     "text": [
      "===== Grade Report =====\n",
      "Student: Alex Johnson\n",
      "Student: Alex Johnson\n",
      "Class: AP Computer Science A\n",
      "Class: AP Computer Science A\n",
      "\n",
      "\n",
      "Test Scores:\n",
      "Test Scores:\n",
      "Test 1: 85\n",
      "Test 1: 85\n",
      "Test 2: 92\n",
      "Test 2: 92\n",
      "Test 3: 88\n",
      "Test 3: 88\n",
      "\n",
      "\n",
      "Average: 88.33333333333333\n",
      "Average: 88.33333333333333\n",
      "Letter Grade: B\n",
      "Letter Grade: B\n"
     ]
    }
   ],
   "source": [
    "// Homework Hack - Grade Calculator\n",
    "// Simplified for better Jupyter output\n",
    "\n",
    "// Student information (final because they don't change)\n",
    "final String STUDENT_NAME = \"Alex Johnson\";\n",
    "final String CLASS_NAME = \"AP Computer Science A\";\n",
    "\n",
    "// Three test scores (whole numbers 0-100)\n",
    "int test1 = 85;\n",
    "int test2 = 92;\n",
    "int test3 = 88;\n",
    "\n",
    "// Calculate the average\n",
    "double average = (test1 + test2 + test3) / 3.0;\n",
    "\n",
    "// Determine letter grade\n",
    "char letterGrade;\n",
    "if (average >= 90) {\n",
    "    letterGrade = 'A';\n",
    "} else if (average >= 80) {\n",
    "    letterGrade = 'B';\n",
    "} else if (average >= 70) {\n",
    "    letterGrade = 'C';\n",
    "} else if (average >= 60) {\n",
    "    letterGrade = 'D';\n",
    "} else {\n",
    "    letterGrade = 'F';\n",
    "}\n",
    "\n",
    "// Display results\n",
    "System.out.println(\"===== Grade Report =====\");\n",
    "System.out.println(\"Student: \" + STUDENT_NAME);\n",
    "System.out.println(\"Class: \" + CLASS_NAME);\n",
    "System.out.println();\n",
    "System.out.println(\"Test Scores:\");\n",
    "System.out.println(\"Test 1: \" + test1);\n",
    "System.out.println(\"Test 2: \" + test2);\n",
    "System.out.println(\"Test 3: \" + test3);\n",
    "System.out.println();\n",
    "System.out.println(\"Average: \" + average);\n",
    "System.out.println(\"Letter Grade: \" + letterGrade);"
   ]
  },
  {
   "cell_type": "markdown",
   "id": "ff7f2d28",
   "metadata": {},
   "source": [
    "**Expected Output for Grade Calculator:**\n",
    "```\n",
    "===== Grade Report =====\n",
    "Student: Alex Johnson\n",
    "Class: AP Computer Science A\n",
    "\n",
    "Test Scores:\n",
    "Test 1: 85\n",
    "Test 2: 92\n",
    "Test 3: 88\n",
    "\n",
    "Average: 88.33333333333333\n",
    "Letter Grade: B\n",
    "```\n",
    "\n",
    "## Summary\n",
    "\n",
    "This notebook demonstrates:\n",
    "- Using different data types (`String`, `int`, `double`, `boolean`, `char`)\n",
    "- Creating constants with the `final` keyword\n",
    "- Basic calculations and conditional logic\n",
    "- Proper variable naming conventions\n",
    "- String concatenation and formatted output"
   ]
  }
 ],
 "metadata": {
  "kernelspec": {
   "display_name": "Java",
   "language": "java",
   "name": "java"
  },
  "language_info": {
   "codemirror_mode": "java",
   "file_extension": ".jshell",
   "mimetype": "text/x-java-source",
   "name": "Java",
   "pygments_lexer": "java",
   "version": "17.0.16+8-Ubuntu-0ubuntu124.04.1"
  }
 },
 "nbformat": 4,
 "nbformat_minor": 5
}
