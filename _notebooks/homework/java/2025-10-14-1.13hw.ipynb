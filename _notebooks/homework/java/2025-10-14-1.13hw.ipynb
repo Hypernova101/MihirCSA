{
 "cells": [
  {
   "cell_type": "raw",
   "id": "ddf1c5b7",
   "metadata": {
    "vscode": {
     "languageId": "raw"
    }
   },
   "source": [
    "---\n",
    "layout: post\n",
    "toc: true\n",
    "title: Unit 1 HW 13\n",
    "permalink: /csa/unit_01/1_13\n",
    "---"
   ]
  },
  {
   "cell_type": "markdown",
   "id": "65e28467",
   "metadata": {},
   "source": [
    "# Popcorn Hack 1"
   ]
  },
  {
   "cell_type": "code",
   "execution_count": 3,
   "id": "b79509e1",
   "metadata": {
    "vscode": {
     "languageId": "java"
    }
   },
   "outputs": [
    {
     "name": "stdout",
     "output_type": "stream",
     "text": [
      "Primitives (Stack):\n",
      "a = 10\n",
      "b = 20\n",
      "\n",
      "Arrays (Heap):\n",
      "array1[0] = 99\n",
      "array2[0] = 99\n"
     ]
    }
   ],
   "source": [
    "public class MemoryDemo {\n",
    "    public static void main(String[] args) {\n",
    "        // Stack variables\n",
    "        int a = 10;\n",
    "        int b = a;  // Copy of value\n",
    "        b = 20;     // Changing b doesn't affect a\n",
    "        \n",
    "        System.out.println(\"Primitives (Stack):\");\n",
    "        System.out.println(\"a = \" + a);  // Still 10\n",
    "        System.out.println(\"b = \" + b);  // Now it's 20\n",
    "        \n",
    "        // Heap variables\n",
    "        int[] array1 = {1, 2, 3};\n",
    "        int[] array2 = array1;  // Copy of reference (address)\n",
    "        array2[0] = 99;         // Changing array2 DOES affect array1\n",
    "        \n",
    "        System.out.println(\"\\nArrays (Heap):\");\n",
    "        System.out.println(\"array1[0] = \" + array1[0]);  // Now it's 99!\n",
    "        System.out.println(\"array2[0] = \" + array2[0]);  // Also 99\n",
    "    }\n",
    "}\n",
    "\n",
    "/*\n",
    "HACK #1 ANSWERS:\n",
    "\n",
    "Task 1: Why does changing b not affect a, but changing array2 affects array1?\n",
    "- When b = a, Java copies the VALUE (10) to b. They're independent.\n",
    "- When array2 = array1, Java copies the REFERENCE (memory address), not the array.\n",
    "- Both variables point to the same array object on the heap.\n",
    "- Modifying the array through array2 affects the same object that array1 references.\n",
    "\n",
    "Task 2: Describe what's on the stack vs. the heap for this code.\n",
    "\n",
    "STACK:\n",
    "- a = 10 (primitive value)\n",
    "- b = 20 (primitive value)\n",
    "- array1 = reference/address to array object (e.g., @7f8b6c)\n",
    "- array2 = reference/address to SAME array object (e.g., @7f8b6c)\n",
    "\n",
    "HEAP:\n",
    "- The actual array object {99, 2, 3} (after modification)\n",
    "- Both array1 and array2 reference this same object\n",
    "*/\n",
    "\n",
    "MemoryDemo.main(null);"
   ]
  },
  {
   "cell_type": "markdown",
   "id": "0c9a899e",
   "metadata": {},
   "source": [
    "# Popcorn Hack 2"
   ]
  },
  {
   "cell_type": "code",
   "execution_count": 5,
   "id": "ba63a59b",
   "metadata": {
    "vscode": {
     "languageId": "java"
    }
   },
   "outputs": [
    {
     "name": "stdout",
     "output_type": "stream",
     "text": [
      "Before birthday: John is 20\n",
      "Inside method: John is now 21\n",
      "After birthday: John is 21\n",
      "\n",
      "Before reassign: John is 21\n",
      "Inside reassign: New Person is 99\n",
      "After reassign: John is 21\n"
     ]
    }
   ],
   "source": [
    "class Person {\n",
    "    String name;\n",
    "    int age;\n",
    "    \n",
    "    Person(String name, int age) {\n",
    "        this.name = name;\n",
    "        this.age = age;\n",
    "    }\n",
    "}\n",
    "\n",
    "public class PersonDemo {\n",
    "    public static void haveBirthday(Person p) {\n",
    "        p.age = p.age + 1;  // Modifying object content\n",
    "        System.out.println(\"Inside method: \" + p.name + \" is now \" + p.age);\n",
    "    }\n",
    "    \n",
    "    public static void reassignPerson(Person p) {\n",
    "        p = new Person(\"New Person\", 99);  // Reassigning reference\n",
    "        System.out.println(\"Inside reassign: \" + p.name + \" is \" + p.age);\n",
    "    }\n",
    "    \n",
    "    public static void main(String[] args) {\n",
    "        Person john = new Person(\"John\", 20);\n",
    "        \n",
    "        System.out.println(\"Before birthday: \" + john.name + \" is \" + john.age);\n",
    "        haveBirthday(john);\n",
    "        System.out.println(\"After birthday: \" + john.name + \" is \" + john.age);\n",
    "        \n",
    "        System.out.println(\"\\nBefore reassign: \" + john.name + \" is \" + john.age);\n",
    "        reassignPerson(john);\n",
    "        System.out.println(\"After reassign: \" + john.name + \" is \" + john.age);\n",
    "    }\n",
    "}\n",
    "\n",
    "/*\n",
    "HACK #2 EXPECTED OUTPUT:\n",
    "Before birthday: John is 20\n",
    "Inside method: John is now 21\n",
    "After birthday: John is 21\n",
    "\n",
    "Before reassign: John is 21\n",
    "Inside reassign: New Person is 99\n",
    "After reassign: John is 21\n",
    "\n",
    "HACK #2 ANSWERS:\n",
    "\n",
    "Question 1: After haveBirthday(john) is called, what is John's age? Why?\n",
    "- John's age is 21\n",
    "- When we pass the object reference to haveBirthday(), the method receives a copy of \n",
    "  the reference (same address). Changes to the object's contents (p.age = p.age + 1) \n",
    "  affect the original object because both variables point to the same object on the heap.\n",
    "\n",
    "Question 2: After reassignPerson(john) is called, what is John's name and age? Why?\n",
    "- John's name is still \"John\" and age is still 21\n",
    "- Inside reassignPerson(), p = new Person(...) creates a NEW object and makes the \n",
    "  local parameter p point to it. However, this only changes the LOCAL copy of the \n",
    "  reference, not the original john reference in main.\n",
    "- The original john still points to the same Person object from before.\n",
    "\n",
    "Question 3: Explain the difference between modifying an object's contents vs. reassigning a reference.\n",
    "- Modifying contents: When you change properties of an object (like p.age = 21), \n",
    "  you're modifying the data on the heap. Since both the parameter and the original \n",
    "  variable point to the same object, the change is visible through both references.\n",
    "- Reassigning a reference: When you do p = new Person(...), you're changing what \n",
    "  the LOCAL parameter p points to. The original reference (john in main) is unaffected \n",
    "  because only the parameter's copy was changed, not the original variable.\n",
    "\n",
    "*/\n",
    "\n",
    "PersonDemo.main(null);"
   ]
  },
  {
   "cell_type": "markdown",
   "id": "f86faf45",
   "metadata": {},
   "source": [
    "# Homework Hack 1"
   ]
  },
  {
   "cell_type": "code",
   "execution_count": 6,
   "id": "f627b7dc",
   "metadata": {
    "vscode": {
     "languageId": "java"
    }
   },
   "outputs": [
    {
     "name": "stdout",
     "output_type": "stream",
     "text": [
      "Car 1: Car{brand='Tesla', year=2024}\n",
      "Car 2: Car{brand='BMW', year=2023}\n"
     ]
    }
   ],
   "source": [
    "public class ObjectCreation {\n",
    "    public static void main(String[] args) {\n",
    "        Car car1 = new Car(\"Tesla\", 2024);\n",
    "        Car car2 = new Car(\"BMW\", 2023);\n",
    "\n",
    "        System.out.println(\"Car 1: \" + car1);\n",
    "        System.out.println(\"Car 2: \" + car2);\n",
    "    }\n",
    "}\n",
    "\n",
    "class Car {\n",
    "    private String brand;\n",
    "    private int year;\n",
    "\n",
    "    public Car(String brand, int year) {\n",
    "        this.brand = brand;\n",
    "        this.year = year;\n",
    "    }\n",
    "\n",
    "    @Override\n",
    "    public String toString() {\n",
    "        return \"Car{\" +\n",
    "                \"brand='\" + brand + '\\'' +\n",
    "                \", year=\" + year +\n",
    "                '}';\n",
    "    }\n",
    "}\n",
    "\n",
    "ObjectCreation.main(null);"
   ]
  },
  {
   "cell_type": "markdown",
   "id": "3e361104",
   "metadata": {},
   "source": [
    "# Homework Hack 2"
   ]
  },
  {
   "cell_type": "code",
   "execution_count": 7,
   "id": "81a67f8d",
   "metadata": {
    "vscode": {
     "languageId": "java"
    }
   },
   "outputs": [
    {
     "name": "stdout",
     "output_type": "stream",
     "text": [
      "===== BEFORE CHANGES =====\n",
      "pages = 300\n",
      "pagesCopy = 300\n",
      "b1 = Book{title='Java Basics'}\n",
      "b2 = Book{title='Java Basics'}\n",
      "\n",
      "===== AFTER CHANGES =====\n",
      "pages = 500\n",
      "pagesCopy = 300\n",
      "b1 = Book{title='Advanced Java'}\n",
      "b2 = Book{title='Advanced Java'}\n"
     ]
    }
   ],
   "source": [
    "public class HeapVsStack {\n",
    "    public static void main(String[] args) {\n",
    "        int pages = 300;\n",
    "        int pagesCopy = pages;\n",
    "        \n",
    "        Book b1 = new Book(\"Java Basics\");\n",
    "        Book b2 = b1;\n",
    "        \n",
    "        System.out.println(\"===== BEFORE CHANGES =====\");\n",
    "        System.out.println(\"pages = \" + pages);\n",
    "        System.out.println(\"pagesCopy = \" + pagesCopy);\n",
    "        System.out.println(\"b1 = \" + b1);\n",
    "        System.out.println(\"b2 = \" + b2);\n",
    "        \n",
    "        pages = 500;\n",
    "        b1.setTitle(\"Advanced Java\");\n",
    "        \n",
    "        System.out.println(\"\\n===== AFTER CHANGES =====\");\n",
    "        System.out.println(\"pages = \" + pages);\n",
    "        System.out.println(\"pagesCopy = \" + pagesCopy);\n",
    "        System.out.println(\"b1 = \" + b1);\n",
    "        System.out.println(\"b2 = \" + b2);\n",
    "    }\n",
    "}\n",
    "\n",
    "class Book {\n",
    "    private String title;\n",
    "    \n",
    "    public Book(String title) {\n",
    "        this.title = title;\n",
    "    }\n",
    "    \n",
    "    public void setTitle(String title) {\n",
    "        this.title = title;\n",
    "    }\n",
    "    \n",
    "    @Override\n",
    "    public String toString() {\n",
    "        return \"Book{\" +\n",
    "                \"title='\" + title + '\\'' +\n",
    "                '}';\n",
    "    }\n",
    "}\n",
    "\n",
    "HeapVsStack.main(null);"
   ]
  }
 ],
 "metadata": {
  "kernelspec": {
   "display_name": "Java",
   "language": "java",
   "name": "java"
  },
  "language_info": {
   "codemirror_mode": "java",
   "file_extension": ".jshell",
   "mimetype": "text/x-java-source",
   "name": "Java",
   "pygments_lexer": "java",
   "version": "17.0.16+8-Ubuntu-0ubuntu124.04.1"
  }
 },
 "nbformat": 4,
 "nbformat_minor": 5
}
