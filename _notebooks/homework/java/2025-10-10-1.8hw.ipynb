{
 "cells": [
  {
   "cell_type": "raw",
   "id": "5afd7971",
   "metadata": {
    "vscode": {
     "languageId": "raw"
    }
   },
   "source": [
    "---\n",
    "layout: post\n",
    "toc: true\n",
    "title: Unit 1 HW 7\n",
    "permalink: /csa/unit_01/1_7\n",
    "---"
   ]
  }
 ],
 "metadata": {
  "language_info": {
   "name": "python"
  }
 },
 "nbformat": 4,
 "nbformat_minor": 5
}
